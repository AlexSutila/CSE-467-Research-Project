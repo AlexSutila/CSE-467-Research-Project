{
 "cells": [
  {
   "cell_type": "markdown",
   "id": "070f64c3",
   "metadata": {},
   "source": [
    "# Run the following block ...\n",
    "... for changes to the library to carry through the notebook"
   ]
  },
  {
   "cell_type": "code",
   "execution_count": 104,
   "id": "296a1405",
   "metadata": {},
   "outputs": [],
   "source": [
    "%load_ext autoreload\n",
    "%autoreload 2"
   ]
  },
  {
   "cell_type": "code",
   "execution_count": 108,
   "id": "13f51608",
   "metadata": {},
   "outputs": [],
   "source": [
    "from lib.variational_autoencoder import variational_autoencoder as vae\n",
    "from sklearn.preprocessing import MinMaxScaler\n",
    "from sklearn.preprocessing import OneHotEncoder\n",
    "\n",
    "import matplotlib.pyplot as plt\n",
    "from sdv.tabular import CTGAN\n",
    "import torch as T\n",
    "import tensorflow as tf\n",
    "import pandas as pd\n",
    "import numpy as np"
   ]
  },
  {
   "cell_type": "code",
   "execution_count": 80,
   "id": "34f993b8",
   "metadata": {},
   "outputs": [],
   "source": [
    "\n",
    "data = pd.read_csv('C:/Users/walte/Documents/CSE467/CSE-467-Research-Project-main/CSE-467-Research-Project-main/data/USCensus1990_1.csv')\n",
    "data = data.head(50)\n",
    "data = data.drop('caseid',axis=1)\n"
   ]
  },
  {
   "cell_type": "code",
   "execution_count": 81,
   "id": "03ed00d6",
   "metadata": {},
   "outputs": [],
   "source": [
    "data.to_csv('data_50.csv',index=False)"
   ]
  },
  {
   "cell_type": "code",
   "execution_count": 55,
   "id": "82b4d6d0",
   "metadata": {},
   "outputs": [],
   "source": [
    "\n",
    "numerical_features = data.select_dtypes(include=['float64', 'int64'])\n",
    "numerical_features = numerical_features.drop('caseid',axis=1)\n",
    "encoder = OneHotEncoder(handle_unknown='ignore')\n"
   ]
  },
  {
   "cell_type": "code",
   "execution_count": 91,
   "id": "65a64541",
   "metadata": {},
   "outputs": [
    {
     "data": {
      "text/html": [
       "<style>#sk-container-id-12 {color: black;background-color: white;}#sk-container-id-12 pre{padding: 0;}#sk-container-id-12 div.sk-toggleable {background-color: white;}#sk-container-id-12 label.sk-toggleable__label {cursor: pointer;display: block;width: 100%;margin-bottom: 0;padding: 0.3em;box-sizing: border-box;text-align: center;}#sk-container-id-12 label.sk-toggleable__label-arrow:before {content: \"▸\";float: left;margin-right: 0.25em;color: #696969;}#sk-container-id-12 label.sk-toggleable__label-arrow:hover:before {color: black;}#sk-container-id-12 div.sk-estimator:hover label.sk-toggleable__label-arrow:before {color: black;}#sk-container-id-12 div.sk-toggleable__content {max-height: 0;max-width: 0;overflow: hidden;text-align: left;background-color: #f0f8ff;}#sk-container-id-12 div.sk-toggleable__content pre {margin: 0.2em;color: black;border-radius: 0.25em;background-color: #f0f8ff;}#sk-container-id-12 input.sk-toggleable__control:checked~div.sk-toggleable__content {max-height: 200px;max-width: 100%;overflow: auto;}#sk-container-id-12 input.sk-toggleable__control:checked~label.sk-toggleable__label-arrow:before {content: \"▾\";}#sk-container-id-12 div.sk-estimator input.sk-toggleable__control:checked~label.sk-toggleable__label {background-color: #d4ebff;}#sk-container-id-12 div.sk-label input.sk-toggleable__control:checked~label.sk-toggleable__label {background-color: #d4ebff;}#sk-container-id-12 input.sk-hidden--visually {border: 0;clip: rect(1px 1px 1px 1px);clip: rect(1px, 1px, 1px, 1px);height: 1px;margin: -1px;overflow: hidden;padding: 0;position: absolute;width: 1px;}#sk-container-id-12 div.sk-estimator {font-family: monospace;background-color: #f0f8ff;border: 1px dotted black;border-radius: 0.25em;box-sizing: border-box;margin-bottom: 0.5em;}#sk-container-id-12 div.sk-estimator:hover {background-color: #d4ebff;}#sk-container-id-12 div.sk-parallel-item::after {content: \"\";width: 100%;border-bottom: 1px solid gray;flex-grow: 1;}#sk-container-id-12 div.sk-label:hover label.sk-toggleable__label {background-color: #d4ebff;}#sk-container-id-12 div.sk-serial::before {content: \"\";position: absolute;border-left: 1px solid gray;box-sizing: border-box;top: 0;bottom: 0;left: 50%;z-index: 0;}#sk-container-id-12 div.sk-serial {display: flex;flex-direction: column;align-items: center;background-color: white;padding-right: 0.2em;padding-left: 0.2em;position: relative;}#sk-container-id-12 div.sk-item {position: relative;z-index: 1;}#sk-container-id-12 div.sk-parallel {display: flex;align-items: stretch;justify-content: center;background-color: white;position: relative;}#sk-container-id-12 div.sk-item::before, #sk-container-id-12 div.sk-parallel-item::before {content: \"\";position: absolute;border-left: 1px solid gray;box-sizing: border-box;top: 0;bottom: 0;left: 50%;z-index: -1;}#sk-container-id-12 div.sk-parallel-item {display: flex;flex-direction: column;z-index: 1;position: relative;background-color: white;}#sk-container-id-12 div.sk-parallel-item:first-child::after {align-self: flex-end;width: 50%;}#sk-container-id-12 div.sk-parallel-item:last-child::after {align-self: flex-start;width: 50%;}#sk-container-id-12 div.sk-parallel-item:only-child::after {width: 0;}#sk-container-id-12 div.sk-dashed-wrapped {border: 1px dashed gray;margin: 0 0.4em 0.5em 0.4em;box-sizing: border-box;padding-bottom: 0.4em;background-color: white;}#sk-container-id-12 div.sk-label label {font-family: monospace;font-weight: bold;display: inline-block;line-height: 1.2em;}#sk-container-id-12 div.sk-label-container {text-align: center;}#sk-container-id-12 div.sk-container {/* jupyter's `normalize.less` sets `[hidden] { display: none; }` but bootstrap.min.css set `[hidden] { display: none !important; }` so we also need the `!important` here to be able to override the default hidden behavior on the sphinx rendered scikit-learn.org. See: https://github.com/scikit-learn/scikit-learn/issues/21755 */display: inline-block !important;position: relative;}#sk-container-id-12 div.sk-text-repr-fallback {display: none;}</style><div id=\"sk-container-id-12\" class=\"sk-top-container\"><div class=\"sk-text-repr-fallback\"><pre>GaussianMixture(n_components=2, reg_covar=1e-05)</pre><b>In a Jupyter environment, please rerun this cell to show the HTML representation or trust the notebook. <br />On GitHub, the HTML representation is unable to render, please try loading this page with nbviewer.org.</b></div><div class=\"sk-container\" hidden><div class=\"sk-item\"><div class=\"sk-estimator sk-toggleable\"><input class=\"sk-toggleable__control sk-hidden--visually\" id=\"sk-estimator-id-12\" type=\"checkbox\" checked><label for=\"sk-estimator-id-12\" class=\"sk-toggleable__label sk-toggleable__label-arrow\">GaussianMixture</label><div class=\"sk-toggleable__content\"><pre>GaussianMixture(n_components=2, reg_covar=1e-05)</pre></div></div></div></div></div>"
      ],
      "text/plain": [
       "GaussianMixture(n_components=2, reg_covar=1e-05)"
      ]
     },
     "execution_count": 91,
     "metadata": {},
     "output_type": "execute_result"
    }
   ],
   "source": [
    "from sklearn.mixture import GaussianMixture\n",
    "\n",
    "# Fit a Gaussian mixture model to the numerical features\n",
    "gmm = GaussianMixture(n_components=2,covariance_type='full',reg_covar=0.00001) # Change the number of components as needed\n",
    "gmm.fit(numerical_features)"
   ]
  },
  {
   "cell_type": "code",
   "execution_count": 92,
   "id": "c69509d5",
   "metadata": {},
   "outputs": [],
   "source": [
    "synthetic_numerical_data = gmm.sample(n_samples=50)"
   ]
  },
  {
   "cell_type": "code",
   "execution_count": 96,
   "id": "bca798be",
   "metadata": {},
   "outputs": [],
   "source": [
    "synthetic_data = np.hstack([synthetic_numerical_data[0]])\n",
    "synthetic_data = pd.DataFrame(synthetic_data, columns=data.columns)\n",
    "synthetic_data = synthetic_data.round()\n",
    "synthetic_data = np.maximum(synthetic_data,0)\n",
    "synthetic_data.to_csv('synthetic_data.csv',index=False)\n"
   ]
  },
  {
   "cell_type": "code",
   "execution_count": 109,
   "id": "ceb76f2d",
   "metadata": {},
   "outputs": [
    {
     "ename": "ModuleNotFoundError",
     "evalue": "No module named 'seaborn'",
     "output_type": "error",
     "traceback": [
      "\u001b[1;31m---------------------------------------------------------------------------\u001b[0m",
      "\u001b[1;31mModuleNotFoundError\u001b[0m                       Traceback (most recent call last)",
      "Cell \u001b[1;32mIn[109], line 1\u001b[0m\n\u001b[1;32m----> 1\u001b[0m \u001b[39mimport\u001b[39;00m \u001b[39mseaborn\u001b[39;00m \u001b[39mas\u001b[39;00m \u001b[39msns\u001b[39;00m\n",
      "\u001b[1;31mModuleNotFoundError\u001b[0m: No module named 'seaborn'"
     ]
    }
   ],
   "source": [
    "import seaborn as sns"
   ]
  },
  {
   "cell_type": "code",
   "execution_count": null,
   "id": "a268df39",
   "metadata": {},
   "outputs": [],
   "source": [
    "corr_matrix = synthetic_data.corr()\n"
   ]
  },
  {
   "cell_type": "code",
   "execution_count": 102,
   "id": "41d82cd1",
   "metadata": {},
   "outputs": [
    {
     "name": "stdout",
     "output_type": "stream",
     "text": [
      "    dAge  dAncstry1  dAncstry2  iAvail  iCitizen  iClass  dDepart  iDisabl1  \\\n",
      "0    2.0        2.0        2.0     0.0       0.0     3.0      0.0       0.0   \n",
      "1    2.0        3.0        0.0     0.0       0.0     1.0      1.0       0.0   \n",
      "2    4.0        7.0        2.0     0.0       0.0     4.0      2.0       2.0   \n",
      "3    1.0        6.0        1.0     0.0       2.0     1.0      1.0       0.0   \n",
      "4    1.0        3.0        1.0     0.0       2.0     1.0      1.0       0.0   \n",
      "5    3.0        9.0        3.0     0.0       3.0     1.0      3.0       0.0   \n",
      "6    5.0        0.0        1.0     0.0       0.0     5.0      0.0       2.0   \n",
      "7    1.0        0.0        3.0     0.0       1.0     1.0      1.0       0.0   \n",
      "8    1.0        8.0        2.0     0.0       0.0     2.0      3.0       0.0   \n",
      "9    2.0        9.0        1.0     1.0       2.0     1.0      0.0       1.0   \n",
      "10   2.0        1.0        1.0     1.0       1.0     2.0      0.0       0.0   \n",
      "11   3.0        1.0        1.0     0.0       0.0     1.0      0.0       0.0   \n",
      "12   3.0        5.0        0.0     0.0       1.0     4.0      1.0       1.0   \n",
      "13   4.0       11.0        0.0     0.0       2.0     0.0      1.0       2.0   \n",
      "14   4.0        1.0        2.0     0.0       1.0     2.0      3.0       0.0   \n",
      "15   1.0        2.0        1.0     0.0       0.0     4.0      2.0       0.0   \n",
      "16   2.0        3.0        0.0     0.0       1.0     3.0      2.0       2.0   \n",
      "17   4.0        3.0        1.0     0.0       1.0     2.0      2.0       2.0   \n",
      "18   2.0        0.0        2.0     1.0       0.0     2.0      3.0       2.0   \n",
      "19   3.0        3.0        0.0     0.0       4.0     3.0      1.0       0.0   \n",
      "20   2.0        4.0        2.0     1.0       1.0     4.0      1.0       0.0   \n",
      "21   1.0        6.0       10.0     0.0       0.0     0.0      1.0       0.0   \n",
      "22   1.0        7.0        3.0     0.0       1.0     0.0      3.0       1.0   \n",
      "23   0.0        0.0        1.0     1.0       1.0     1.0      2.0       0.0   \n",
      "24   1.0        9.0        2.0     0.0       0.0     1.0      3.0       0.0   \n",
      "25   1.0        8.0        1.0     0.0       3.0     1.0      2.0       1.0   \n",
      "26   4.0        8.0        0.0     4.0       0.0     1.0      0.0       1.0   \n",
      "27   2.0        6.0        1.0     1.0       0.0     1.0      0.0       1.0   \n",
      "28   1.0        2.0        1.0     0.0       0.0     2.0      0.0       0.0   \n",
      "29   1.0       11.0        2.0     0.0       0.0     1.0      2.0       1.0   \n",
      "30   1.0        1.0        1.0     1.0       0.0     2.0      2.0       0.0   \n",
      "31   6.0        4.0        0.0     0.0       1.0     3.0      2.0       2.0   \n",
      "32   4.0        2.0        3.0     0.0       0.0     2.0      5.0       2.0   \n",
      "33   1.0        3.0        1.0     0.0       0.0     4.0      1.0       0.0   \n",
      "34   1.0        0.0        3.0     0.0       1.0     2.0      1.0       0.0   \n",
      "35   2.0       10.0        0.0     0.0       1.0     1.0      2.0       0.0   \n",
      "36   6.0        1.0        1.0     0.0       0.0     3.0      3.0       2.0   \n",
      "37   0.0        0.0        0.0     0.0       1.0     0.0      0.0       0.0   \n",
      "38   3.0        7.0        0.0     0.0       0.0     1.0      2.0       1.0   \n",
      "39   2.0        1.0        0.0     0.0       0.0     2.0      2.0       2.0   \n",
      "40   3.0        1.0        2.0     0.0       0.0     6.0      1.0       1.0   \n",
      "41   1.0        0.0        0.0     0.0       4.0     1.0      0.0       2.0   \n",
      "42   5.0       11.0        1.0     0.0       0.0     0.0      0.0       1.0   \n",
      "43   1.0        1.0        1.0     0.0       1.0     0.0      1.0       0.0   \n",
      "44   2.0        1.0        1.0     0.0       0.0     6.0      2.0       1.0   \n",
      "45   7.0       10.0        0.0     0.0       0.0     1.0      0.0       2.0   \n",
      "46   2.0       11.0        2.0     0.0       1.0     1.0      4.0       2.0   \n",
      "47   2.0        1.0        1.0     0.0       2.0     0.0      0.0       0.0   \n",
      "48   4.0        0.0        0.0     0.0       4.0     1.0      0.0       2.0   \n",
      "49   4.0        3.0        1.0     0.0       1.0     0.0      1.0       1.0   \n",
      "\n",
      "    iDisabl2  iEnglish  ...  iTmpabsnt  dTravtime  iVietnam  dWeek89  iWork89  \\\n",
      "0        0.0       1.0  ...        2.0        1.0       0.0      0.0      0.0   \n",
      "1        0.0       0.0  ...        2.0        3.0       0.0      2.0      1.0   \n",
      "2        2.0       0.0  ...        1.0        5.0       0.0      2.0      1.0   \n",
      "3        0.0       0.0  ...        0.0        0.0       1.0      0.0      0.0   \n",
      "4        0.0       2.0  ...        3.0        2.0       0.0      1.0      1.0   \n",
      "5        0.0       2.0  ...        3.0        2.0       0.0      1.0      0.0   \n",
      "6        1.0       0.0  ...        1.0        3.0       0.0      1.0      1.0   \n",
      "7        0.0       1.0  ...        0.0        2.0       0.0      1.0      0.0   \n",
      "8        0.0       0.0  ...        0.0        1.0       0.0      1.0      1.0   \n",
      "9        1.0       2.0  ...        0.0        0.0       0.0      1.0      1.0   \n",
      "10       0.0       0.0  ...        1.0        3.0       0.0      1.0      0.0   \n",
      "11       1.0       0.0  ...        1.0        3.0       0.0      1.0      0.0   \n",
      "12       0.0       1.0  ...        2.0        3.0       0.0      1.0      1.0   \n",
      "13       2.0       1.0  ...        2.0        1.0       0.0      0.0      2.0   \n",
      "14       0.0       2.0  ...        0.0        5.0       0.0      2.0      1.0   \n",
      "15       0.0       0.0  ...        3.0        5.0       0.0      1.0      0.0   \n",
      "16       2.0       2.0  ...        0.0        3.0       0.0      2.0      1.0   \n",
      "17       2.0       1.0  ...        0.0        1.0       0.0      2.0      1.0   \n",
      "18       2.0       0.0  ...        1.0        2.0       0.0      2.0      1.0   \n",
      "19       0.0       3.0  ...        0.0        1.0       0.0      0.0      0.0   \n",
      "20       0.0       1.0  ...        1.0        3.0       0.0      0.0      0.0   \n",
      "21       0.0       0.0  ...        0.0        3.0       0.0      0.0      0.0   \n",
      "22       1.0       1.0  ...        3.0        1.0       0.0      1.0      1.0   \n",
      "23       0.0       1.0  ...        1.0        5.0       1.0      0.0      0.0   \n",
      "24       0.0       1.0  ...        2.0        2.0       0.0      1.0      0.0   \n",
      "25       0.0       1.0  ...        0.0        2.0       0.0      0.0      0.0   \n",
      "26       1.0       1.0  ...        1.0        0.0       0.0      1.0      1.0   \n",
      "27       1.0       1.0  ...        1.0        2.0       0.0      1.0      1.0   \n",
      "28       0.0       0.0  ...        0.0        1.0       0.0      0.0      0.0   \n",
      "29       1.0       0.0  ...        1.0        2.0       0.0      1.0      1.0   \n",
      "30       0.0       1.0  ...        0.0        2.0       0.0      1.0      0.0   \n",
      "31       2.0       0.0  ...        0.0        4.0       0.0      1.0      1.0   \n",
      "32       2.0       0.0  ...        2.0        2.0       0.0      2.0      1.0   \n",
      "33       0.0       0.0  ...        0.0        1.0       0.0      0.0      0.0   \n",
      "34       0.0       1.0  ...        2.0        5.0       0.0      1.0      0.0   \n",
      "35       0.0       0.0  ...        0.0        2.0       0.0      0.0      1.0   \n",
      "36       2.0       0.0  ...        0.0        4.0       0.0      1.0      1.0   \n",
      "37       0.0       1.0  ...        0.0        0.0       0.0      0.0      0.0   \n",
      "38       1.0       1.0  ...        0.0        2.0       0.0      1.0      1.0   \n",
      "39       2.0       0.0  ...        0.0        4.0       0.0      2.0      1.0   \n",
      "40       1.0       0.0  ...        0.0        1.0       0.0      2.0      1.0   \n",
      "41       2.0       1.0  ...        3.0        0.0       0.0      1.0      1.0   \n",
      "42       1.0       0.0  ...        0.0        0.0       0.0      0.0      2.0   \n",
      "43       0.0       1.0  ...        0.0        0.0       0.0      0.0      0.0   \n",
      "44       1.0       0.0  ...        0.0        1.0       0.0      2.0      1.0   \n",
      "45       2.0       0.0  ...        3.0        0.0       0.0      1.0      1.0   \n",
      "46       2.0       0.0  ...        0.0        2.0       0.0      1.0      1.0   \n",
      "47       0.0       0.0  ...        0.0        0.0       0.0      0.0      0.0   \n",
      "48       2.0       0.0  ...        0.0        0.0       0.0      1.0      1.0   \n",
      "49       1.0       1.0  ...        3.0        0.0       0.0      0.0      2.0   \n",
      "\n",
      "    iWorklwk  iWWII  iYearsch  iYearwrk  dYrsserv  \n",
      "0        1.0    0.0       3.0       2.0       0.0  \n",
      "1        1.0    1.0       2.0       3.0       1.0  \n",
      "2        1.0    0.0       8.0       2.0       0.0  \n",
      "3        1.0    0.0       0.0       0.0       2.0  \n",
      "4        1.0    0.0       1.0       2.0       0.0  \n",
      "5        1.0    0.0       1.0       6.0       0.0  \n",
      "6        1.0    0.0       1.0       3.0       0.0  \n",
      "7        0.0    0.0       0.0       1.0       0.0  \n",
      "8        0.0    0.0       2.0       1.0       1.0  \n",
      "9        0.0    0.0       0.0       3.0       0.0  \n",
      "10       0.0    0.0       1.0       1.0       0.0  \n",
      "11       0.0    0.0       3.0       2.0       0.0  \n",
      "12       0.0    0.0       3.0       4.0       0.0  \n",
      "13       1.0    0.0      11.0       5.0       1.0  \n",
      "14       2.0    0.0       3.0       1.0       0.0  \n",
      "15       1.0    0.0       8.0       1.0       1.0  \n",
      "16       1.0    0.0       5.0       0.0       0.0  \n",
      "17       1.0    0.0       3.0       1.0       0.0  \n",
      "18       2.0    0.0      11.0       3.0       0.0  \n",
      "19       0.0    0.0       5.0       0.0       1.0  \n",
      "20       1.0    0.0       2.0       0.0       1.0  \n",
      "21       0.0    0.0       3.0       0.0       1.0  \n",
      "22       1.0    0.0       3.0       2.0       0.0  \n",
      "23       1.0    1.0       2.0       1.0       1.0  \n",
      "24       1.0    1.0       2.0       0.0       1.0  \n",
      "25       0.0    0.0       0.0       1.0       0.0  \n",
      "26       0.0    0.0       3.0       4.0       1.0  \n",
      "27       0.0    0.0       3.0       3.0       0.0  \n",
      "28       0.0    0.0       2.0       1.0       0.0  \n",
      "29       0.0    0.0       5.0       4.0       0.0  \n",
      "30       0.0    0.0       2.0       1.0       0.0  \n",
      "31       1.0    0.0       7.0       1.0       1.0  \n",
      "32       2.0    0.0       6.0       0.0       1.0  \n",
      "33       0.0    0.0       1.0       0.0       0.0  \n",
      "34       2.0    0.0       2.0       0.0       0.0  \n",
      "35       0.0    0.0       0.0       2.0       0.0  \n",
      "36       1.0    0.0      12.0       1.0       0.0  \n",
      "37       1.0    0.0       2.0       0.0       0.0  \n",
      "38       0.0    0.0       7.0       1.0       0.0  \n",
      "39       0.0    0.0       8.0       1.0       0.0  \n",
      "40       0.0    0.0       3.0       1.0       0.0  \n",
      "41       1.0    0.0       6.0       2.0       0.0  \n",
      "42       1.0    0.0       6.0       5.0       0.0  \n",
      "43       2.0    0.0       1.0       0.0       0.0  \n",
      "44       0.0    0.0       3.0       1.0       0.0  \n",
      "45       2.0    1.0       4.0       2.0       2.0  \n",
      "46       0.0    0.0       5.0       1.0       0.0  \n",
      "47       0.0    0.0       4.0       0.0       0.0  \n",
      "48       1.0    0.0       9.0       1.0       0.0  \n",
      "49       2.0    0.0       5.0       6.0       0.0  \n",
      "\n",
      "[50 rows x 68 columns]\n"
     ]
    }
   ],
   "source": [
    "diff_df = synthetic_data.subtract(data).abs()\n",
    "max_diff = diff_df.max()\n",
    "print(diff_df)\n",
    "max_diff.to_csv('max_diff.csv',index=False)"
   ]
  }
 ],
 "metadata": {
  "kernelspec": {
   "display_name": "Python 3 (ipykernel)",
   "language": "python",
   "name": "python3"
  },
  "language_info": {
   "codemirror_mode": {
    "name": "ipython",
    "version": 3
   },
   "file_extension": ".py",
   "mimetype": "text/x-python",
   "name": "python",
   "nbconvert_exporter": "python",
   "pygments_lexer": "ipython3",
   "version": "3.11.2"
  },
  "vscode": {
   "interpreter": {
    "hash": "797f7c5204adea0d2c09d742afdc061b11934bc6a2a410dbd38617022feefa71"
   }
  }
 },
 "nbformat": 4,
 "nbformat_minor": 5
}
